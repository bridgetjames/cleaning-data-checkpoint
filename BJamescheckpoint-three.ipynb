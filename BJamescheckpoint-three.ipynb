{
    "cells": [
        {
            "attachments": {},
            "cell_type": "markdown",
            "metadata": {
                "azdata_cell_guid": "26037d32-2047-4157-81ef-595916bd66a0"
            },
            "source": [
                "# Checkpoint Three: Cleaning Data\n",
                "\n",
                "Now you are ready to clean your data. Before starting coding, provide the link to your dataset below.\n",
                "\n",
                "My dataset:\n",
                "\n",
                "Import the necessary libraries and create your dataframe(s)."
            ]
        },
        {
            "cell_type": "code",
            "execution_count": 1,
            "metadata": {
                "azdata_cell_guid": "e8adef8e-d0f2-4640-a179-5997f11e82ca"
            },
            "outputs": [],
            "source": [
                "import pandas as pd \n",
                "import numpy as np\n",
                "df = pd.read_csv('/Users/bridgetjames/Documents/LaunchCode/Final Graded Assignment/IMDB Movies 2000 - 2020.csv')"
            ]
        },
        {
            "cell_type": "markdown",
            "metadata": {
                "azdata_cell_guid": "e172475a-c4ee-414a-8367-9965355dbba6"
            },
            "source": [
                "## Missing Data\n",
                "\n",
                "Test your dataset for missing data and handle it as needed. Make notes in the form of code comments as to your thought process."
            ]
        },
        {
            "cell_type": "code",
            "execution_count": 36,
            "metadata": {
                "azdata_cell_guid": "e1dc66ef-e471-4c27-92e7-ee878c106eba"
            },
            "outputs": [
                {
                    "data": {
                        "text/plain": [
                            "imdb_title_id               0\n",
                            "title                       0\n",
                            "original_title              0\n",
                            "year                        0\n",
                            "date_published              0\n",
                            "genre                       0\n",
                            "duration                    0\n",
                            "country                     0\n",
                            "language_1                  4\n",
                            "language_2               3317\n",
                            "language_3               4556\n",
                            "director                    0\n",
                            "writer                      4\n",
                            "actors                      1\n",
                            "actors_1                    0\n",
                            "actors_f2                   0\n",
                            "description                 0\n",
                            "desc35                      0\n",
                            "avg_vote                    0\n",
                            "votes                       0\n",
                            "budget                   1356\n",
                            "usa_gross_income         1015\n",
                            "worlwide_gross_income     288\n",
                            "reviews_from_users          1\n",
                            "dtype: int64"
                        ]
                    },
                    "execution_count": 36,
                    "metadata": {},
                    "output_type": "execute_result"
                }
            ],
            "source": [
                "df.isna().sum()\n",
                "# 3k+ null values in 2 language columns.\n",
                "# 1356 nulls in budget column\n",
                "# 1015 nulls in usa gross income column, only 288 in worldwide income column. \n",
                "# 1 null value in reviews from users column\n"
            ]
        },
        {
            "cell_type": "code",
            "execution_count": 37,
            "metadata": {},
            "outputs": [
                {
                    "name": "stdout",
                    "output_type": "stream",
                    "text": [
                        "<class 'pandas.core.frame.DataFrame'>\n",
                        "RangeIndex: 5487 entries, 0 to 5486\n",
                        "Data columns (total 24 columns):\n",
                        " #   Column                 Non-Null Count  Dtype  \n",
                        "---  ------                 --------------  -----  \n",
                        " 0   imdb_title_id          5487 non-null   object \n",
                        " 1   title                  5487 non-null   object \n",
                        " 2   original_title         5487 non-null   object \n",
                        " 3   year                   5487 non-null   int64  \n",
                        " 4   date_published         5487 non-null   object \n",
                        " 5   genre                  5487 non-null   object \n",
                        " 6   duration               5487 non-null   int64  \n",
                        " 7   country                5487 non-null   object \n",
                        " 8   language_1             5483 non-null   object \n",
                        " 9   language_2             2170 non-null   object \n",
                        " 10  language_3             931 non-null    object \n",
                        " 11  director               5487 non-null   object \n",
                        " 12  writer                 5483 non-null   object \n",
                        " 13  actors                 5486 non-null   object \n",
                        " 14  actors_1               5487 non-null   object \n",
                        " 15  actors_f2              5487 non-null   object \n",
                        " 16  description            5487 non-null   object \n",
                        " 17  desc35                 5487 non-null   object \n",
                        " 18  avg_vote               5487 non-null   float64\n",
                        " 19  votes                  5487 non-null   int64  \n",
                        " 20  budget                 4131 non-null   object \n",
                        " 21  usa_gross_income       4472 non-null   float64\n",
                        " 22  worlwide_gross_income  5199 non-null   object \n",
                        " 23  reviews_from_users     5486 non-null   float64\n",
                        "dtypes: float64(3), int64(3), object(18)\n",
                        "memory usage: 1.0+ MB\n"
                    ]
                }
            ],
            "source": [
                "df.info()"
            ]
        },
        {
            "cell_type": "code",
            "execution_count": 11,
            "metadata": {},
            "outputs": [
                {
                    "data": {
                        "text/html": [
                            "<div>\n",
                            "<style scoped>\n",
                            "    .dataframe tbody tr th:only-of-type {\n",
                            "        vertical-align: middle;\n",
                            "    }\n",
                            "\n",
                            "    .dataframe tbody tr th {\n",
                            "        vertical-align: top;\n",
                            "    }\n",
                            "\n",
                            "    .dataframe thead th {\n",
                            "        text-align: right;\n",
                            "    }\n",
                            "</style>\n",
                            "<table border=\"1\" class=\"dataframe\">\n",
                            "  <thead>\n",
                            "    <tr style=\"text-align: right;\">\n",
                            "      <th></th>\n",
                            "      <th>imdb_title_id</th>\n",
                            "      <th>title</th>\n",
                            "      <th>original_title</th>\n",
                            "      <th>year</th>\n",
                            "      <th>date_published</th>\n",
                            "      <th>genre</th>\n",
                            "      <th>duration</th>\n",
                            "      <th>country</th>\n",
                            "      <th>language_1</th>\n",
                            "      <th>director</th>\n",
                            "      <th>...</th>\n",
                            "      <th>actors_1</th>\n",
                            "      <th>actors_f2</th>\n",
                            "      <th>description</th>\n",
                            "      <th>desc35</th>\n",
                            "      <th>avg_vote</th>\n",
                            "      <th>votes</th>\n",
                            "      <th>budget</th>\n",
                            "      <th>usa_gross_income</th>\n",
                            "      <th>worlwide_gross_income</th>\n",
                            "      <th>reviews_from_users</th>\n",
                            "    </tr>\n",
                            "  </thead>\n",
                            "  <tbody>\n",
                            "    <tr>\n",
                            "      <th>0</th>\n",
                            "      <td>tt0035423</td>\n",
                            "      <td>Kate &amp; Leopold</td>\n",
                            "      <td>Kate &amp; Leopold</td>\n",
                            "      <td>2001</td>\n",
                            "      <td>01/03/2002</td>\n",
                            "      <td>Comedy, Fantasy, Romance</td>\n",
                            "      <td>118</td>\n",
                            "      <td>USA</td>\n",
                            "      <td>English</td>\n",
                            "      <td>James Mangold</td>\n",
                            "      <td>...</td>\n",
                            "      <td>Meg Ryan</td>\n",
                            "      <td>Meg Ryan, Hugh Jackman</td>\n",
                            "      <td>An English Duke from 1876 is inadvertedly drag...</td>\n",
                            "      <td>An English Duke from 1876 is inadvertedly</td>\n",
                            "      <td>6.4</td>\n",
                            "      <td>77852</td>\n",
                            "      <td>48000000</td>\n",
                            "      <td>47121859.0</td>\n",
                            "      <td>76019048</td>\n",
                            "      <td>341.0</td>\n",
                            "    </tr>\n",
                            "    <tr>\n",
                            "      <th>1</th>\n",
                            "      <td>tt0118589</td>\n",
                            "      <td>Glitter</td>\n",
                            "      <td>Glitter</td>\n",
                            "      <td>2001</td>\n",
                            "      <td>30/11/2001</td>\n",
                            "      <td>Drama, Music, Romance</td>\n",
                            "      <td>104</td>\n",
                            "      <td>USA</td>\n",
                            "      <td>English</td>\n",
                            "      <td>Vondie Curtis-Hall</td>\n",
                            "      <td>...</td>\n",
                            "      <td>Mariah Carey</td>\n",
                            "      <td>Mariah Carey, Max Beesley</td>\n",
                            "      <td>A young singer dates a disc jockey who helps h...</td>\n",
                            "      <td>A young singer dates a disc jockey</td>\n",
                            "      <td>2.2</td>\n",
                            "      <td>21298</td>\n",
                            "      <td>22000000</td>\n",
                            "      <td>4274407.0</td>\n",
                            "      <td>5271666</td>\n",
                            "      <td>319.0</td>\n",
                            "    </tr>\n",
                            "    <tr>\n",
                            "      <th>2</th>\n",
                            "      <td>tt0118694</td>\n",
                            "      <td>In the Mood for Love</td>\n",
                            "      <td>Fa yeung nin wah</td>\n",
                            "      <td>2000</td>\n",
                            "      <td>27/10/2000</td>\n",
                            "      <td>Drama, Romance</td>\n",
                            "      <td>98</td>\n",
                            "      <td>Hong Kong, China</td>\n",
                            "      <td>Cantonese</td>\n",
                            "      <td>Kar-Wai Wong</td>\n",
                            "      <td>...</td>\n",
                            "      <td>Maggie Cheung</td>\n",
                            "      <td>Maggie Cheung, Tony Chiu-Wai Leung</td>\n",
                            "      <td>Two neighbors, a woman and a man, form a stron...</td>\n",
                            "      <td>Two neighbors, a woman and a man,</td>\n",
                            "      <td>8.1</td>\n",
                            "      <td>119171</td>\n",
                            "      <td>NaN</td>\n",
                            "      <td>2738980.0</td>\n",
                            "      <td>12854953</td>\n",
                            "      <td>422.0</td>\n",
                            "    </tr>\n",
                            "    <tr>\n",
                            "      <th>3</th>\n",
                            "      <td>tt0120202</td>\n",
                            "      <td>Hollywood, Vermont</td>\n",
                            "      <td>State and Main</td>\n",
                            "      <td>2000</td>\n",
                            "      <td>31/05/2002</td>\n",
                            "      <td>Comedy, Drama</td>\n",
                            "      <td>105</td>\n",
                            "      <td>France, USA</td>\n",
                            "      <td>English</td>\n",
                            "      <td>David Mamet</td>\n",
                            "      <td>...</td>\n",
                            "      <td>Michael Higgins</td>\n",
                            "      <td>Michael Higgins, Michael Bradshaw</td>\n",
                            "      <td>A movie crew invades a small town whose reside...</td>\n",
                            "      <td>A movie crew invades a small town</td>\n",
                            "      <td>6.7</td>\n",
                            "      <td>20220</td>\n",
                            "      <td>NaN</td>\n",
                            "      <td>6944471.0</td>\n",
                            "      <td>9206279</td>\n",
                            "      <td>175.0</td>\n",
                            "    </tr>\n",
                            "    <tr>\n",
                            "      <th>4</th>\n",
                            "      <td>tt0120263</td>\n",
                            "      <td>Canzoni del secondo piano</td>\n",
                            "      <td>Sånger från andra våningen</td>\n",
                            "      <td>2000</td>\n",
                            "      <td>06/10/2000</td>\n",
                            "      <td>Comedy, Drama</td>\n",
                            "      <td>98</td>\n",
                            "      <td>Sweden, Norway, Denmark</td>\n",
                            "      <td>Swedish</td>\n",
                            "      <td>Roy Andersson</td>\n",
                            "      <td>...</td>\n",
                            "      <td>Lars Nordh</td>\n",
                            "      <td>Lars Nordh, Stefan Larsson</td>\n",
                            "      <td>Where are we humans going? A film poem inspire...</td>\n",
                            "      <td>Where are we humans going? A film</td>\n",
                            "      <td>7.6</td>\n",
                            "      <td>17188</td>\n",
                            "      <td>NaN</td>\n",
                            "      <td>80334.0</td>\n",
                            "      <td>80334</td>\n",
                            "      <td>110.0</td>\n",
                            "    </tr>\n",
                            "  </tbody>\n",
                            "</table>\n",
                            "<p>5 rows × 22 columns</p>\n",
                            "</div>"
                        ],
                        "text/plain": [
                            "  imdb_title_id                      title              original_title  year  \\\n",
                            "0     tt0035423             Kate & Leopold              Kate & Leopold  2001   \n",
                            "1     tt0118589                    Glitter                     Glitter  2001   \n",
                            "2     tt0118694       In the Mood for Love            Fa yeung nin wah  2000   \n",
                            "3     tt0120202         Hollywood, Vermont              State and Main  2000   \n",
                            "4     tt0120263  Canzoni del secondo piano  Sånger från andra våningen  2000   \n",
                            "\n",
                            "  date_published                     genre  duration                  country  \\\n",
                            "0     01/03/2002  Comedy, Fantasy, Romance       118                      USA   \n",
                            "1     30/11/2001     Drama, Music, Romance       104                      USA   \n",
                            "2     27/10/2000            Drama, Romance        98         Hong Kong, China   \n",
                            "3     31/05/2002             Comedy, Drama       105              France, USA   \n",
                            "4     06/10/2000             Comedy, Drama        98  Sweden, Norway, Denmark   \n",
                            "\n",
                            "  language_1            director  ...         actors_1  \\\n",
                            "0    English       James Mangold  ...         Meg Ryan   \n",
                            "1    English  Vondie Curtis-Hall  ...     Mariah Carey   \n",
                            "2  Cantonese        Kar-Wai Wong  ...    Maggie Cheung   \n",
                            "3    English         David Mamet  ...  Michael Higgins   \n",
                            "4    Swedish       Roy Andersson  ...       Lars Nordh   \n",
                            "\n",
                            "                            actors_f2  \\\n",
                            "0              Meg Ryan, Hugh Jackman   \n",
                            "1           Mariah Carey, Max Beesley   \n",
                            "2  Maggie Cheung, Tony Chiu-Wai Leung   \n",
                            "3   Michael Higgins, Michael Bradshaw   \n",
                            "4          Lars Nordh, Stefan Larsson   \n",
                            "\n",
                            "                                         description  \\\n",
                            "0  An English Duke from 1876 is inadvertedly drag...   \n",
                            "1  A young singer dates a disc jockey who helps h...   \n",
                            "2  Two neighbors, a woman and a man, form a stron...   \n",
                            "3  A movie crew invades a small town whose reside...   \n",
                            "4  Where are we humans going? A film poem inspire...   \n",
                            "\n",
                            "                                      desc35 avg_vote   votes    budget  \\\n",
                            "0  An English Duke from 1876 is inadvertedly      6.4   77852  48000000   \n",
                            "1         A young singer dates a disc jockey      2.2   21298  22000000   \n",
                            "2          Two neighbors, a woman and a man,      8.1  119171       NaN   \n",
                            "3          A movie crew invades a small town      6.7   20220       NaN   \n",
                            "4          Where are we humans going? A film      7.6   17188       NaN   \n",
                            "\n",
                            "   usa_gross_income worlwide_gross_income  reviews_from_users  \n",
                            "0        47121859.0              76019048               341.0  \n",
                            "1         4274407.0               5271666               319.0  \n",
                            "2         2738980.0              12854953               422.0  \n",
                            "3         6944471.0               9206279               175.0  \n",
                            "4           80334.0                 80334               110.0  \n",
                            "\n",
                            "[5 rows x 22 columns]"
                        ]
                    },
                    "execution_count": 11,
                    "metadata": {},
                    "output_type": "execute_result"
                }
            ],
            "source": [
                "# Dropping the second and third language columns, there are missing data, and these columns are not necessary for my business issue.\n",
                "drop_lang_df = df.drop('language_2', axis=1)\n",
                "new_df = drop_lang_df.drop('language_3', axis=1)\n",
                "new_df.head()"
            ]
        },
        {
            "cell_type": "code",
            "execution_count": 15,
            "metadata": {},
            "outputs": [
                {
                    "data": {
                        "text/html": [
                            "<div>\n",
                            "<style scoped>\n",
                            "    .dataframe tbody tr th:only-of-type {\n",
                            "        vertical-align: middle;\n",
                            "    }\n",
                            "\n",
                            "    .dataframe tbody tr th {\n",
                            "        vertical-align: top;\n",
                            "    }\n",
                            "\n",
                            "    .dataframe thead th {\n",
                            "        text-align: right;\n",
                            "    }\n",
                            "</style>\n",
                            "<table border=\"1\" class=\"dataframe\">\n",
                            "  <thead>\n",
                            "    <tr style=\"text-align: right;\">\n",
                            "      <th></th>\n",
                            "      <th>imdb_title_id</th>\n",
                            "      <th>title</th>\n",
                            "      <th>original_title</th>\n",
                            "      <th>year</th>\n",
                            "      <th>date_published</th>\n",
                            "      <th>genre</th>\n",
                            "      <th>duration</th>\n",
                            "      <th>country</th>\n",
                            "      <th>language_1</th>\n",
                            "      <th>director</th>\n",
                            "      <th>...</th>\n",
                            "      <th>actors</th>\n",
                            "      <th>actors_1</th>\n",
                            "      <th>actors_f2</th>\n",
                            "      <th>description</th>\n",
                            "      <th>desc35</th>\n",
                            "      <th>avg_vote</th>\n",
                            "      <th>votes</th>\n",
                            "      <th>usa_gross_income</th>\n",
                            "      <th>worlwide_gross_income</th>\n",
                            "      <th>reviews_from_users</th>\n",
                            "    </tr>\n",
                            "  </thead>\n",
                            "  <tbody>\n",
                            "    <tr>\n",
                            "      <th>0</th>\n",
                            "      <td>tt0035423</td>\n",
                            "      <td>Kate &amp; Leopold</td>\n",
                            "      <td>Kate &amp; Leopold</td>\n",
                            "      <td>2001</td>\n",
                            "      <td>01/03/2002</td>\n",
                            "      <td>Comedy, Fantasy, Romance</td>\n",
                            "      <td>118</td>\n",
                            "      <td>USA</td>\n",
                            "      <td>English</td>\n",
                            "      <td>James Mangold</td>\n",
                            "      <td>...</td>\n",
                            "      <td>Meg Ryan, Hugh Jackman, Liev Schreiber, Brecki...</td>\n",
                            "      <td>Meg Ryan</td>\n",
                            "      <td>Meg Ryan, Hugh Jackman</td>\n",
                            "      <td>An English Duke from 1876 is inadvertedly drag...</td>\n",
                            "      <td>An English Duke from 1876 is inadvertedly</td>\n",
                            "      <td>6.4</td>\n",
                            "      <td>77852</td>\n",
                            "      <td>47121859.0</td>\n",
                            "      <td>76019048</td>\n",
                            "      <td>341.0</td>\n",
                            "    </tr>\n",
                            "    <tr>\n",
                            "      <th>1</th>\n",
                            "      <td>tt0118589</td>\n",
                            "      <td>Glitter</td>\n",
                            "      <td>Glitter</td>\n",
                            "      <td>2001</td>\n",
                            "      <td>30/11/2001</td>\n",
                            "      <td>Drama, Music, Romance</td>\n",
                            "      <td>104</td>\n",
                            "      <td>USA</td>\n",
                            "      <td>English</td>\n",
                            "      <td>Vondie Curtis-Hall</td>\n",
                            "      <td>...</td>\n",
                            "      <td>Mariah Carey, Max Beesley, Da Brat, Tia Texada...</td>\n",
                            "      <td>Mariah Carey</td>\n",
                            "      <td>Mariah Carey, Max Beesley</td>\n",
                            "      <td>A young singer dates a disc jockey who helps h...</td>\n",
                            "      <td>A young singer dates a disc jockey</td>\n",
                            "      <td>2.2</td>\n",
                            "      <td>21298</td>\n",
                            "      <td>4274407.0</td>\n",
                            "      <td>5271666</td>\n",
                            "      <td>319.0</td>\n",
                            "    </tr>\n",
                            "    <tr>\n",
                            "      <th>2</th>\n",
                            "      <td>tt0118694</td>\n",
                            "      <td>In the Mood for Love</td>\n",
                            "      <td>Fa yeung nin wah</td>\n",
                            "      <td>2000</td>\n",
                            "      <td>27/10/2000</td>\n",
                            "      <td>Drama, Romance</td>\n",
                            "      <td>98</td>\n",
                            "      <td>Hong Kong, China</td>\n",
                            "      <td>Cantonese</td>\n",
                            "      <td>Kar-Wai Wong</td>\n",
                            "      <td>...</td>\n",
                            "      <td>Maggie Cheung, Tony Chiu-Wai Leung, Ping Lam S...</td>\n",
                            "      <td>Maggie Cheung</td>\n",
                            "      <td>Maggie Cheung, Tony Chiu-Wai Leung</td>\n",
                            "      <td>Two neighbors, a woman and a man, form a stron...</td>\n",
                            "      <td>Two neighbors, a woman and a man,</td>\n",
                            "      <td>8.1</td>\n",
                            "      <td>119171</td>\n",
                            "      <td>2738980.0</td>\n",
                            "      <td>12854953</td>\n",
                            "      <td>422.0</td>\n",
                            "    </tr>\n",
                            "    <tr>\n",
                            "      <th>3</th>\n",
                            "      <td>tt0120202</td>\n",
                            "      <td>Hollywood, Vermont</td>\n",
                            "      <td>State and Main</td>\n",
                            "      <td>2000</td>\n",
                            "      <td>31/05/2002</td>\n",
                            "      <td>Comedy, Drama</td>\n",
                            "      <td>105</td>\n",
                            "      <td>France, USA</td>\n",
                            "      <td>English</td>\n",
                            "      <td>David Mamet</td>\n",
                            "      <td>...</td>\n",
                            "      <td>Michael Higgins, Michael Bradshaw, Morris Lamo...</td>\n",
                            "      <td>Michael Higgins</td>\n",
                            "      <td>Michael Higgins, Michael Bradshaw</td>\n",
                            "      <td>A movie crew invades a small town whose reside...</td>\n",
                            "      <td>A movie crew invades a small town</td>\n",
                            "      <td>6.7</td>\n",
                            "      <td>20220</td>\n",
                            "      <td>6944471.0</td>\n",
                            "      <td>9206279</td>\n",
                            "      <td>175.0</td>\n",
                            "    </tr>\n",
                            "    <tr>\n",
                            "      <th>4</th>\n",
                            "      <td>tt0120263</td>\n",
                            "      <td>Canzoni del secondo piano</td>\n",
                            "      <td>Sånger från andra våningen</td>\n",
                            "      <td>2000</td>\n",
                            "      <td>06/10/2000</td>\n",
                            "      <td>Comedy, Drama</td>\n",
                            "      <td>98</td>\n",
                            "      <td>Sweden, Norway, Denmark</td>\n",
                            "      <td>Swedish</td>\n",
                            "      <td>Roy Andersson</td>\n",
                            "      <td>...</td>\n",
                            "      <td>Lars Nordh, Stefan Larsson, Bengt C.W. Carlsso...</td>\n",
                            "      <td>Lars Nordh</td>\n",
                            "      <td>Lars Nordh, Stefan Larsson</td>\n",
                            "      <td>Where are we humans going? A film poem inspire...</td>\n",
                            "      <td>Where are we humans going? A film</td>\n",
                            "      <td>7.6</td>\n",
                            "      <td>17188</td>\n",
                            "      <td>80334.0</td>\n",
                            "      <td>80334</td>\n",
                            "      <td>110.0</td>\n",
                            "    </tr>\n",
                            "  </tbody>\n",
                            "</table>\n",
                            "<p>5 rows × 21 columns</p>\n",
                            "</div>"
                        ],
                        "text/plain": [
                            "  imdb_title_id                      title              original_title  year  \\\n",
                            "0     tt0035423             Kate & Leopold              Kate & Leopold  2001   \n",
                            "1     tt0118589                    Glitter                     Glitter  2001   \n",
                            "2     tt0118694       In the Mood for Love            Fa yeung nin wah  2000   \n",
                            "3     tt0120202         Hollywood, Vermont              State and Main  2000   \n",
                            "4     tt0120263  Canzoni del secondo piano  Sånger från andra våningen  2000   \n",
                            "\n",
                            "  date_published                     genre  duration                  country  \\\n",
                            "0     01/03/2002  Comedy, Fantasy, Romance       118                      USA   \n",
                            "1     30/11/2001     Drama, Music, Romance       104                      USA   \n",
                            "2     27/10/2000            Drama, Romance        98         Hong Kong, China   \n",
                            "3     31/05/2002             Comedy, Drama       105              France, USA   \n",
                            "4     06/10/2000             Comedy, Drama        98  Sweden, Norway, Denmark   \n",
                            "\n",
                            "  language_1            director  ...  \\\n",
                            "0    English       James Mangold  ...   \n",
                            "1    English  Vondie Curtis-Hall  ...   \n",
                            "2  Cantonese        Kar-Wai Wong  ...   \n",
                            "3    English         David Mamet  ...   \n",
                            "4    Swedish       Roy Andersson  ...   \n",
                            "\n",
                            "                                              actors         actors_1  \\\n",
                            "0  Meg Ryan, Hugh Jackman, Liev Schreiber, Brecki...         Meg Ryan   \n",
                            "1  Mariah Carey, Max Beesley, Da Brat, Tia Texada...     Mariah Carey   \n",
                            "2  Maggie Cheung, Tony Chiu-Wai Leung, Ping Lam S...    Maggie Cheung   \n",
                            "3  Michael Higgins, Michael Bradshaw, Morris Lamo...  Michael Higgins   \n",
                            "4  Lars Nordh, Stefan Larsson, Bengt C.W. Carlsso...       Lars Nordh   \n",
                            "\n",
                            "                            actors_f2  \\\n",
                            "0              Meg Ryan, Hugh Jackman   \n",
                            "1           Mariah Carey, Max Beesley   \n",
                            "2  Maggie Cheung, Tony Chiu-Wai Leung   \n",
                            "3   Michael Higgins, Michael Bradshaw   \n",
                            "4          Lars Nordh, Stefan Larsson   \n",
                            "\n",
                            "                                         description  \\\n",
                            "0  An English Duke from 1876 is inadvertedly drag...   \n",
                            "1  A young singer dates a disc jockey who helps h...   \n",
                            "2  Two neighbors, a woman and a man, form a stron...   \n",
                            "3  A movie crew invades a small town whose reside...   \n",
                            "4  Where are we humans going? A film poem inspire...   \n",
                            "\n",
                            "                                      desc35 avg_vote   votes  \\\n",
                            "0  An English Duke from 1876 is inadvertedly      6.4   77852   \n",
                            "1         A young singer dates a disc jockey      2.2   21298   \n",
                            "2          Two neighbors, a woman and a man,      8.1  119171   \n",
                            "3          A movie crew invades a small town      6.7   20220   \n",
                            "4          Where are we humans going? A film      7.6   17188   \n",
                            "\n",
                            "   usa_gross_income  worlwide_gross_income reviews_from_users  \n",
                            "0        47121859.0               76019048              341.0  \n",
                            "1         4274407.0                5271666              319.0  \n",
                            "2         2738980.0               12854953              422.0  \n",
                            "3         6944471.0                9206279              175.0  \n",
                            "4           80334.0                  80334              110.0  \n",
                            "\n",
                            "[5 rows x 21 columns]"
                        ]
                    },
                    "execution_count": 15,
                    "metadata": {},
                    "output_type": "execute_result"
                }
            ],
            "source": [
                "# Dropping 'Budget' column, there are missing data, and this column is also not pertinent to the business issue. \n",
                "new_df = new_df.drop('budget', axis=1)\n",
                "new_df.head()"
            ]
        },
        {
            "cell_type": "code",
            "execution_count": 43,
            "metadata": {},
            "outputs": [
                {
                    "name": "stdout",
                    "output_type": "stream",
                    "text": [
                        "340.6\n"
                    ]
                },
                {
                    "name": "stderr",
                    "output_type": "stream",
                    "text": [
                        "/var/folders/rw/z7w4hy9s6l3bz7kns43sc2j00000gn/T/ipykernel_36834/2406327514.py:5: FutureWarning: A value is trying to be set on a copy of a DataFrame or Series through chained assignment using an inplace method.\n",
                        "The behavior will change in pandas 3.0. This inplace method will never work because the intermediate object on which we are setting values always behaves as a copy.\n",
                        "\n",
                        "For example, when doing 'df[col].method(value, inplace=True)', try using 'df.method({col: value}, inplace=True)' or df[col] = df[col].method(value) instead, to perform the operation inplace on the original object.\n",
                        "\n",
                        "\n",
                        "  new_df['reviews_from_users'].fillna(average_reviews, inplace=True)\n"
                    ]
                },
                {
                    "data": {
                        "text/plain": [
                            "np.int64(0)"
                        ]
                    },
                    "execution_count": 43,
                    "metadata": {},
                    "output_type": "execute_result"
                }
            ],
            "source": [
                "average_reviews = new_df['reviews_from_users'].mean().round(1)\n",
                "print(average_reviews)\n",
                "# 340.6: average number of reviews left by IMDB users per movie. \n",
                "\n",
                "new_df['reviews_from_users'].fillna(average_reviews, inplace=True)\n",
                "\n",
                "new_df['reviews_from_users'].isna().sum()"
            ]
        },
        {
            "cell_type": "markdown",
            "metadata": {
                "azdata_cell_guid": "1233f543-e9a0-4f78-96f5-d7536554102e"
            },
            "source": [
                "## Irregular Data\n",
                "\n",
                "Detect outliers in your dataset and handle them as needed. Use code comments to make notes about your thought process."
            ]
        },
        {
            "cell_type": "code",
            "execution_count": 44,
            "metadata": {
                "azdata_cell_guid": "efed50ae-16f0-471d-98e2-632553a74c12"
            },
            "outputs": [
                {
                    "name": "stdout",
                    "output_type": "stream",
                    "text": [
                        "9.1\n",
                        "1.0\n"
                    ]
                }
            ],
            "source": [
                "# IMDB votes are on a scale of 1 to 10.\n",
                "outlier = np.where((new_df['avg_vote']< 0.0) & (new_df['avg_vote'] > 10.0))\n",
                "max_vote = new_df['avg_vote'].max()\n",
                "print(max_vote)\n",
                "min_vote = new_df['avg_vote'].min()\n",
                "print(min_vote)\n",
                "\n",
                "# No outliers in this column. "
            ]
        },
        {
            "cell_type": "code",
            "execution_count": 46,
            "metadata": {},
            "outputs": [
                {
                    "name": "stdout",
                    "output_type": "stream",
                    "text": [
                        "(array([], dtype=int64),)\n",
                        "2000\n"
                    ]
                }
            ],
            "source": [
                "# Release year should be no earlier than 2000. \n",
                "year_outlier = np.where((new_df['year'] < 2000))\n",
                "print(year_outlier)\n",
                "min_year = new_df['year'].min()\n",
                "print(min_year)\n",
                "\n",
                "# No outliers in this column. Earliest release year is 2000."
            ]
        },
        {
            "cell_type": "markdown",
            "metadata": {
                "azdata_cell_guid": "6f5b8ee0-bab3-44bc-958a-67d1e4c0407f"
            },
            "source": [
                "## Unnecessary Data\n",
                "\n",
                "Look for the different types of unnecessary data in your dataset and address it as needed. Make sure to use code comments to illustrate your thought process."
            ]
        },
        {
            "cell_type": "code",
            "execution_count": 20,
            "metadata": {},
            "outputs": [
                {
                    "ename": "KeyError",
                    "evalue": "\"['usa_gross_income'] not found in axis\"",
                    "output_type": "error",
                    "traceback": [
                        "\u001b[0;31m---------------------------------------------------------------------------\u001b[0m",
                        "\u001b[0;31mKeyError\u001b[0m                                  Traceback (most recent call last)",
                        "Cell \u001b[0;32mIn[20], line 2\u001b[0m\n\u001b[1;32m      1\u001b[0m \u001b[38;5;66;03m# Dropping Usa gross income column. There null values in this column. The worldwide income column provides similar information and contains less null values. \u001b[39;00m\n\u001b[0;32m----> 2\u001b[0m \u001b[43mnew_df\u001b[49m\u001b[38;5;241;43m.\u001b[39;49m\u001b[43mdrop\u001b[49m\u001b[43m(\u001b[49m\u001b[38;5;124;43m'\u001b[39;49m\u001b[38;5;124;43musa_gross_income\u001b[39;49m\u001b[38;5;124;43m'\u001b[39;49m\u001b[43m,\u001b[49m\u001b[43m \u001b[49m\u001b[43maxis\u001b[49m\u001b[38;5;241;43m=\u001b[39;49m\u001b[38;5;241;43m1\u001b[39;49m\u001b[43m)\u001b[49m\n",
                        "File \u001b[0;32m/Library/Frameworks/Python.framework/Versions/3.12/lib/python3.12/site-packages/pandas/core/frame.py:5581\u001b[0m, in \u001b[0;36mDataFrame.drop\u001b[0;34m(self, labels, axis, index, columns, level, inplace, errors)\u001b[0m\n\u001b[1;32m   5433\u001b[0m \u001b[38;5;28;01mdef\u001b[39;00m \u001b[38;5;21mdrop\u001b[39m(\n\u001b[1;32m   5434\u001b[0m     \u001b[38;5;28mself\u001b[39m,\n\u001b[1;32m   5435\u001b[0m     labels: IndexLabel \u001b[38;5;241m|\u001b[39m \u001b[38;5;28;01mNone\u001b[39;00m \u001b[38;5;241m=\u001b[39m \u001b[38;5;28;01mNone\u001b[39;00m,\n\u001b[0;32m   (...)\u001b[0m\n\u001b[1;32m   5442\u001b[0m     errors: IgnoreRaise \u001b[38;5;241m=\u001b[39m \u001b[38;5;124m\"\u001b[39m\u001b[38;5;124mraise\u001b[39m\u001b[38;5;124m\"\u001b[39m,\n\u001b[1;32m   5443\u001b[0m ) \u001b[38;5;241m-\u001b[39m\u001b[38;5;241m>\u001b[39m DataFrame \u001b[38;5;241m|\u001b[39m \u001b[38;5;28;01mNone\u001b[39;00m:\n\u001b[1;32m   5444\u001b[0m \u001b[38;5;250m    \u001b[39m\u001b[38;5;124;03m\"\"\"\u001b[39;00m\n\u001b[1;32m   5445\u001b[0m \u001b[38;5;124;03m    Drop specified labels from rows or columns.\u001b[39;00m\n\u001b[1;32m   5446\u001b[0m \n\u001b[0;32m   (...)\u001b[0m\n\u001b[1;32m   5579\u001b[0m \u001b[38;5;124;03m            weight  1.0     0.8\u001b[39;00m\n\u001b[1;32m   5580\u001b[0m \u001b[38;5;124;03m    \"\"\"\u001b[39;00m\n\u001b[0;32m-> 5581\u001b[0m     \u001b[38;5;28;01mreturn\u001b[39;00m \u001b[38;5;28;43msuper\u001b[39;49m\u001b[43m(\u001b[49m\u001b[43m)\u001b[49m\u001b[38;5;241;43m.\u001b[39;49m\u001b[43mdrop\u001b[49m\u001b[43m(\u001b[49m\n\u001b[1;32m   5582\u001b[0m \u001b[43m        \u001b[49m\u001b[43mlabels\u001b[49m\u001b[38;5;241;43m=\u001b[39;49m\u001b[43mlabels\u001b[49m\u001b[43m,\u001b[49m\n\u001b[1;32m   5583\u001b[0m \u001b[43m        \u001b[49m\u001b[43maxis\u001b[49m\u001b[38;5;241;43m=\u001b[39;49m\u001b[43maxis\u001b[49m\u001b[43m,\u001b[49m\n\u001b[1;32m   5584\u001b[0m \u001b[43m        \u001b[49m\u001b[43mindex\u001b[49m\u001b[38;5;241;43m=\u001b[39;49m\u001b[43mindex\u001b[49m\u001b[43m,\u001b[49m\n\u001b[1;32m   5585\u001b[0m \u001b[43m        \u001b[49m\u001b[43mcolumns\u001b[49m\u001b[38;5;241;43m=\u001b[39;49m\u001b[43mcolumns\u001b[49m\u001b[43m,\u001b[49m\n\u001b[1;32m   5586\u001b[0m \u001b[43m        \u001b[49m\u001b[43mlevel\u001b[49m\u001b[38;5;241;43m=\u001b[39;49m\u001b[43mlevel\u001b[49m\u001b[43m,\u001b[49m\n\u001b[1;32m   5587\u001b[0m \u001b[43m        \u001b[49m\u001b[43minplace\u001b[49m\u001b[38;5;241;43m=\u001b[39;49m\u001b[43minplace\u001b[49m\u001b[43m,\u001b[49m\n\u001b[1;32m   5588\u001b[0m \u001b[43m        \u001b[49m\u001b[43merrors\u001b[49m\u001b[38;5;241;43m=\u001b[39;49m\u001b[43merrors\u001b[49m\u001b[43m,\u001b[49m\n\u001b[1;32m   5589\u001b[0m \u001b[43m    \u001b[49m\u001b[43m)\u001b[49m\n",
                        "File \u001b[0;32m/Library/Frameworks/Python.framework/Versions/3.12/lib/python3.12/site-packages/pandas/core/generic.py:4788\u001b[0m, in \u001b[0;36mNDFrame.drop\u001b[0;34m(self, labels, axis, index, columns, level, inplace, errors)\u001b[0m\n\u001b[1;32m   4786\u001b[0m \u001b[38;5;28;01mfor\u001b[39;00m axis, labels \u001b[38;5;129;01min\u001b[39;00m axes\u001b[38;5;241m.\u001b[39mitems():\n\u001b[1;32m   4787\u001b[0m     \u001b[38;5;28;01mif\u001b[39;00m labels \u001b[38;5;129;01mis\u001b[39;00m \u001b[38;5;129;01mnot\u001b[39;00m \u001b[38;5;28;01mNone\u001b[39;00m:\n\u001b[0;32m-> 4788\u001b[0m         obj \u001b[38;5;241m=\u001b[39m \u001b[43mobj\u001b[49m\u001b[38;5;241;43m.\u001b[39;49m\u001b[43m_drop_axis\u001b[49m\u001b[43m(\u001b[49m\u001b[43mlabels\u001b[49m\u001b[43m,\u001b[49m\u001b[43m \u001b[49m\u001b[43maxis\u001b[49m\u001b[43m,\u001b[49m\u001b[43m \u001b[49m\u001b[43mlevel\u001b[49m\u001b[38;5;241;43m=\u001b[39;49m\u001b[43mlevel\u001b[49m\u001b[43m,\u001b[49m\u001b[43m \u001b[49m\u001b[43merrors\u001b[49m\u001b[38;5;241;43m=\u001b[39;49m\u001b[43merrors\u001b[49m\u001b[43m)\u001b[49m\n\u001b[1;32m   4790\u001b[0m \u001b[38;5;28;01mif\u001b[39;00m inplace:\n\u001b[1;32m   4791\u001b[0m     \u001b[38;5;28mself\u001b[39m\u001b[38;5;241m.\u001b[39m_update_inplace(obj)\n",
                        "File \u001b[0;32m/Library/Frameworks/Python.framework/Versions/3.12/lib/python3.12/site-packages/pandas/core/generic.py:4830\u001b[0m, in \u001b[0;36mNDFrame._drop_axis\u001b[0;34m(self, labels, axis, level, errors, only_slice)\u001b[0m\n\u001b[1;32m   4828\u001b[0m         new_axis \u001b[38;5;241m=\u001b[39m axis\u001b[38;5;241m.\u001b[39mdrop(labels, level\u001b[38;5;241m=\u001b[39mlevel, errors\u001b[38;5;241m=\u001b[39merrors)\n\u001b[1;32m   4829\u001b[0m     \u001b[38;5;28;01melse\u001b[39;00m:\n\u001b[0;32m-> 4830\u001b[0m         new_axis \u001b[38;5;241m=\u001b[39m \u001b[43maxis\u001b[49m\u001b[38;5;241;43m.\u001b[39;49m\u001b[43mdrop\u001b[49m\u001b[43m(\u001b[49m\u001b[43mlabels\u001b[49m\u001b[43m,\u001b[49m\u001b[43m \u001b[49m\u001b[43merrors\u001b[49m\u001b[38;5;241;43m=\u001b[39;49m\u001b[43merrors\u001b[49m\u001b[43m)\u001b[49m\n\u001b[1;32m   4831\u001b[0m     indexer \u001b[38;5;241m=\u001b[39m axis\u001b[38;5;241m.\u001b[39mget_indexer(new_axis)\n\u001b[1;32m   4833\u001b[0m \u001b[38;5;66;03m# Case for non-unique axis\u001b[39;00m\n\u001b[1;32m   4834\u001b[0m \u001b[38;5;28;01melse\u001b[39;00m:\n",
                        "File \u001b[0;32m/Library/Frameworks/Python.framework/Versions/3.12/lib/python3.12/site-packages/pandas/core/indexes/base.py:7070\u001b[0m, in \u001b[0;36mIndex.drop\u001b[0;34m(self, labels, errors)\u001b[0m\n\u001b[1;32m   7068\u001b[0m \u001b[38;5;28;01mif\u001b[39;00m mask\u001b[38;5;241m.\u001b[39many():\n\u001b[1;32m   7069\u001b[0m     \u001b[38;5;28;01mif\u001b[39;00m errors \u001b[38;5;241m!=\u001b[39m \u001b[38;5;124m\"\u001b[39m\u001b[38;5;124mignore\u001b[39m\u001b[38;5;124m\"\u001b[39m:\n\u001b[0;32m-> 7070\u001b[0m         \u001b[38;5;28;01mraise\u001b[39;00m \u001b[38;5;167;01mKeyError\u001b[39;00m(\u001b[38;5;124mf\u001b[39m\u001b[38;5;124m\"\u001b[39m\u001b[38;5;132;01m{\u001b[39;00mlabels[mask]\u001b[38;5;241m.\u001b[39mtolist()\u001b[38;5;132;01m}\u001b[39;00m\u001b[38;5;124m not found in axis\u001b[39m\u001b[38;5;124m\"\u001b[39m)\n\u001b[1;32m   7071\u001b[0m     indexer \u001b[38;5;241m=\u001b[39m indexer[\u001b[38;5;241m~\u001b[39mmask]\n\u001b[1;32m   7072\u001b[0m \u001b[38;5;28;01mreturn\u001b[39;00m \u001b[38;5;28mself\u001b[39m\u001b[38;5;241m.\u001b[39mdelete(indexer)\n",
                        "\u001b[0;31mKeyError\u001b[0m: \"['usa_gross_income'] not found in axis\""
                    ]
                }
            ],
            "source": [
                "# Dropping Usa gross income column. There are null values in this column. The worldwide income column provides similar information and contains less null values. \n",
                "new_df.drop('usa_gross_income', axis=1)\n"
            ]
        },
        {
            "cell_type": "code",
            "execution_count": 23,
            "metadata": {},
            "outputs": [],
            "source": [
                "# Getting rid of \"date published\" column. I am really only concerned with the release year, since my goal is to include more recent movies in my proposed business.\n",
                "new_df = new_df.drop('date_published', axis=1)"
            ]
        },
        {
            "cell_type": "code",
            "execution_count": 22,
            "metadata": {},
            "outputs": [],
            "source": [
                "# Dropping one of the description columns. Desc35 is unnecessary if we have a description column that contains a full description, rather than one with a character limit. \n",
                "new_df = new_df.drop('desc35', axis=1)"
            ]
        },
        {
            "cell_type": "markdown",
            "metadata": {
                "azdata_cell_guid": "53e0cf94-c68a-4fa0-9849-9505a66bcce6"
            },
            "source": [
                "## Inconsistent Data\n",
                "\n",
                "Check for inconsistent data and address any that arises. As always, use code comments to illustrate your thought process."
            ]
        },
        {
            "cell_type": "code",
            "execution_count": 47,
            "metadata": {
                "azdata_cell_guid": "e9de6624-812a-43f8-8e20-93b4a49b091f"
            },
            "outputs": [
                {
                    "name": "stdout",
                    "output_type": "stream",
                    "text": [
                        "imdb_title_id             object\n",
                        "original_title            object\n",
                        "year                       int64\n",
                        "genre                     object\n",
                        "duration                   int64\n",
                        "country                   object\n",
                        "language_1                object\n",
                        "director                  object\n",
                        "writer                    object\n",
                        "actors                    object\n",
                        "actors_1                  object\n",
                        "actors_f2                 object\n",
                        "description               object\n",
                        "avg_vote                 float64\n",
                        "votes                      int64\n",
                        "worlwide_gross_income     object\n",
                        "reviews_from_users       float64\n",
                        "dtype: object\n"
                    ]
                }
            ],
            "source": [
                "print(new_df.dtypes)\n",
                "\n",
                "Column data types make sense for the information each column contains. "
            ]
        },
        {
            "cell_type": "markdown",
            "metadata": {
                "azdata_cell_guid": "dedc0bfe-17d0-40b2-914f-2ddb54f9ce0d"
            },
            "source": [
                "## Summarize Your Results\n",
                "\n",
                "Make note of your answers to the following questions.\n",
                "\n",
                "1. Did you find all four types of dirty data in your dataset? No inconsistent data was found. If I had higher level skills, I would probably check the \"Original_title\" column to see if the language is consistent. I dropped the \"title\" column, which  appeared to not be in English. However, ideally, I would want to make sure the \"original title\" column does not contain any irregular data. Other than this potential irregularity, the dataset did not contain any irregular data. It did contain unnecessary data and missing values.\n",
                "2. Did the process of cleaning your data give you new insights into your dataset? Yes. I learned how IMDB define \"votes\" versus \"reviews.\" Votes are what generate an IMDB rating, and these are cast on a scale of 1 to 10. Reviews reflect the number of reviews left by users. While number of reviews left could indicate the number of views a movie got, the number of reviews cannot indicate how popular or unpopular a movie was. \n",
                "3. Is there anything you would like to make note of when it comes to manipulating the data and making visualizations? I don't think so. "
            ]
        }
    ],
    "metadata": {
        "kernelspec": {
            "display_name": "Python 3",
            "language": "python",
            "name": "python3"
        },
        "language_info": {
            "codemirror_mode": {
                "name": "ipython",
                "version": 3
            },
            "file_extension": ".py",
            "mimetype": "text/x-python",
            "name": "python",
            "nbconvert_exporter": "python",
            "pygments_lexer": "ipython3",
            "version": "3.12.5"
        }
    },
    "nbformat": 4,
    "nbformat_minor": 2
}
